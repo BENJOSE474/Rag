{
 "cells": [
  {
   "cell_type": "code",
   "execution_count": 1,
   "id": "2f6760ff",
   "metadata": {},
   "outputs": [],
   "source": [
    "from langchain_community.vectorstores import FAISS\n",
    "from langchain_huggingface import HuggingFaceEmbeddings\n",
    "from langchain.document_loaders import TextLoader\n",
    "from langchain.text_splitter import RecursiveCharacterTextSplitter\n",
    "from langchain.chat_models import init_chat_model\n",
    "from langchain.prompts import PromptTemplate\n",
    "from langchain.chains.combine_documents import create_stuff_documents_chain\n",
    "from langchain.chains.retrieval import create_retrieval_chain\n"
   ]
  },
  {
   "cell_type": "code",
   "execution_count": 2,
   "id": "623f48ed",
   "metadata": {},
   "outputs": [],
   "source": [
    "import os\n",
    "from dotenv import load_dotenv\n",
    "load_dotenv()\n",
    "os.environ[\"OPENAI_API_KEY\"]=os.getenv(\"OPENAI_API_KEY\")\n",
    "os.environ[\"GROQ_API_KEY\"]=os.getenv(\"GROQ_API_KEY\")\n"
   ]
  },
  {
   "cell_type": "code",
   "execution_count": 3,
   "id": "a481d4fb",
   "metadata": {},
   "outputs": [
    {
     "data": {
      "text/plain": [
       "[Document(metadata={'source': 'langchain_rag_dataset.txt'}, page_content='LangChain is an open-source framework designed to simplify the development of applications using large language models (LLMs).\\nLangChain provides abstractions for working with prompts, chains, memory, and agents, making it easier to build complex LLM-based systems.'),\n",
       " Document(metadata={'source': 'langchain_rag_dataset.txt'}, page_content='The framework supports integration with various vector databases like FAISS and Chroma for semantic retrieval.\\nLangChain enables Retrieval-Augmented Generation (RAG) by allowing developers to fetch relevant context before generating responses.'),\n",
       " Document(metadata={'source': 'langchain_rag_dataset.txt'}, page_content='Memory in LangChain helps models retain previous interactions, making multi-turn conversations more coherent.\\nAgents in LangChain can use tools like calculators, search APIs, or custom functions based on the instructions they receive.'),\n",
       " Document(metadata={'source': 'langchain_rag_dataset.txt'}, page_content='BM25 and vector-based retrieval can be combined in LangChain to support hybrid retrieval strategies.\\nFAISS is a high-performance library for similarity search that LangChain leverages for efficient retrieval in RAG pipelines.'),\n",
       " Document(metadata={'source': 'langchain_rag_dataset.txt'}, page_content='Chroma is a lightweight vector store often used in LangChain for embedding-based document storage and retrieval.\\nPrompt templates in LangChain support Jinja-style formatting and variable injection to customize model inputs.'),\n",
       " Document(metadata={'source': 'langchain_rag_dataset.txt'}, page_content=\"The 'stuff' chain sends all context at once to the LLM, useful for short documents in RAG.\\nThe 'map-reduce' chain breaks up large documents, processes them separately, and then aggregates the outputs.\\nThe 'refine' chain iteratively updates an answer by incorporating each new chunk of information.\"),\n",
       " Document(metadata={'source': 'langchain_rag_dataset.txt'}, page_content='LangChain allows LLMs to act as agents that decide which tool to call and in what order during a task.\\nLangChain supports conversational memory using ConversationBufferMemory and summarization memory with ConversationSummaryMemory.'),\n",
       " Document(metadata={'source': 'langchain_rag_dataset.txt'}, page_content='LangChain agents can interact with external APIs and databases, enhancing the capabilities of LLM-powered applications.\\nRAG pipelines in LangChain involve document loading, splitting, embedding, retrieval, and LLM-based response generation.'),\n",
       " Document(metadata={'source': 'langchain_rag_dataset.txt'}, page_content='MMR (Maximal Marginal Relevance) retrieval in LangChain improves diversity by balancing relevance and redundancy.\\nTool usage in LangChain allows agents to execute predefined Python functions with contextual input from the user.'),\n",
       " Document(metadata={'source': 'langchain_rag_dataset.txt'}, page_content='LangChain supports reranking retrieved results using LLMs or neural cross-encoders to improve context quality.')]"
      ]
     },
     "execution_count": 3,
     "metadata": {},
     "output_type": "execute_result"
    }
   ],
   "source": [
    "# Step 1: Load and chunk the document\n",
    "loader = TextLoader(\"langchain_rag_dataset.txt\")\n",
    "raw_docs = loader.load()\n",
    "splitter = RecursiveCharacterTextSplitter(chunk_size=300, chunk_overlap=50)\n",
    "chunks = splitter.split_documents(raw_docs)\n",
    "chunks"
   ]
  },
  {
   "cell_type": "code",
   "execution_count": 4,
   "id": "b002688d",
   "metadata": {},
   "outputs": [
    {
     "name": "stderr",
     "output_type": "stream",
     "text": [
      "/Users/user/Documents/RAGUDEMY/.venv/lib/python3.12/site-packages/tqdm/auto.py:21: TqdmWarning: IProgress not found. Please update jupyter and ipywidgets. See https://ipywidgets.readthedocs.io/en/stable/user_install.html\n",
      "  from .autonotebook import tqdm as notebook_tqdm\n"
     ]
    }
   ],
   "source": [
    "# Step 2: FAISS Vector Store with HuggingFace Embeddings\n",
    "embedding_model = HuggingFaceEmbeddings(model_name=\"all-MiniLM-L6-v2\")\n",
    "vectorstore = FAISS.from_documents(chunks, embedding_model)\n"
   ]
  },
  {
   "cell_type": "code",
   "execution_count": 10,
   "id": "282245a0",
   "metadata": {},
   "outputs": [],
   "source": [
    "### Step 3: Create MMR Retirever\n",
    "retriever=vectorstore.as_retriever(\n",
    "    search_type=\"mmr\",\n",
    "    search_kwargs={\"k\":1}\n",
    ")"
   ]
  },
  {
   "cell_type": "code",
   "execution_count": 11,
   "id": "c5033c50",
   "metadata": {},
   "outputs": [],
   "source": [
    "# Step 4: Prompt and LLM\n",
    "prompt = PromptTemplate.from_template(\"\"\"\n",
    "Answer the question based on the context provided.\n",
    "\n",
    "Context:\n",
    "{context}\n",
    "\n",
    "Question: {input}\n",
    "\"\"\")\n",
    "llm=init_chat_model(\"groq:gemma2-9b-it\")\n"
   ]
  },
  {
   "cell_type": "code",
   "execution_count": 12,
   "id": "cea44cbd",
   "metadata": {},
   "outputs": [],
   "source": [
    "# Step 5: RAG Pipeline\n",
    "document_chain = create_stuff_documents_chain(llm=llm, prompt=prompt)\n",
    "rag_chain = create_retrieval_chain(retriever=retriever, combine_docs_chain=document_chain)"
   ]
  },
  {
   "cell_type": "code",
   "execution_count": 13,
   "id": "c1758cd9",
   "metadata": {},
   "outputs": [
    {
     "name": "stdout",
     "output_type": "stream",
     "text": [
      "✅ Answer:\n",
      " LangChain supports agents and memory in the following ways:\n",
      "\n",
      "* **Memory:** LangChain allows models to remember past interactions in a conversation, enabling more coherent and context-aware multi-turn dialogues.\n",
      "\n",
      "* **Agents:** LangChain enables agents to leverage external tools like calculators, search APIs, or custom functions. These tools are activated based on the instructions provided to the agent. \n",
      "\n",
      "\n",
      "Essentially, LangChain provides the infrastructure for agents to access information from memory and utilize tools to perform tasks more effectively. \n",
      "\n"
     ]
    }
   ],
   "source": [
    "# Step 6: Query\n",
    "query = {\"input\": \"How does LangChain support agents and memory?\"}\n",
    "response = rag_chain.invoke(query)\n",
    "\n",
    "print(\"✅ Answer:\\n\", response[\"answer\"])"
   ]
  }
 ],
 "metadata": {
  "kernelspec": {
   "display_name": ".venv",
   "language": "python",
   "name": "python3"
  },
  "language_info": {
   "codemirror_mode": {
    "name": "ipython",
    "version": 3
   },
   "file_extension": ".py",
   "mimetype": "text/x-python",
   "name": "python",
   "nbconvert_exporter": "python",
   "pygments_lexer": "ipython3",
   "version": "3.12.11"
  }
 },
 "nbformat": 4,
 "nbformat_minor": 5
}
