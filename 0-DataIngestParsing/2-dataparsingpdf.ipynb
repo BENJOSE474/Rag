{
 "cells": [
  {
   "cell_type": "code",
   "execution_count": 1,
   "id": "ce924fe7",
   "metadata": {},
   "outputs": [],
   "source": [
    "from langchain_community.document_loaders import (PyPDFLoader,PyMuPDFLoader,UnstructuredAPIFileIOLoader)\n"
   ]
  },
  {
   "cell_type": "code",
   "execution_count": 2,
   "id": "22cddf55",
   "metadata": {},
   "outputs": [
    {
     "name": "stdout",
     "output_type": "stream",
     "text": [
      "Pypdfloader\n",
      "name 'PyPDFLoader' is not defined\n",
      "name 'PyMuPDFLoader' is not defined\n"
     ]
    }
   ],
   "source": [
    "print(\"Pypdfloader\")\n",
    "try:\n",
    "    pypdf_loader=PyPDFLoader(\"./data/pdf/rag.pdf\")\n",
    "    pypdf_docs=pypdf_loader.load()\n",
    "    print(pypdf_docs)\n",
    "    print(f\"Total number of pages: {len(pypdf_docs)}\")\n",
    "    print(f\"First page: {pypdf_docs[0].page_content}\")\n",
    "    print(f\"Metadata: {pypdf_docs[0].metadata}\")\n",
    "except Exception as e:\n",
    "    print(e)\n",
    "\n",
    "try:\n",
    "    pymupdf_loader=PyMuPDFLoader(\"./data/pdf/rag.pdf\")\n",
    "    pymupdf_docs=pymupdf_loader.load()\n",
    "    print(pymupdf_docs)\n",
    "    print(f\"Total number of pages: {len(pymupdf_docs)}\")\n",
    "    print(f\"First page: {pymupdf_docs[0].page_content}\")\n",
    "    print(f\"Metadata: {pymupdf_docs[0].metadata}\")\n",
    "except Exception as e:\n",
    "    print(e)\n"
   ]
  },
  {
   "cell_type": "code",
   "execution_count": 3,
   "id": "70ea4bba",
   "metadata": {},
   "outputs": [],
   "source": [
    "from langchain_community.document_loaders import PyPDFLoader\n",
    "from langchain.text_splitter import RecursiveCharacterTextSplitter"
   ]
  },
  {
   "cell_type": "code",
   "execution_count": 4,
   "id": "e1d92c9b",
   "metadata": {},
   "outputs": [],
   "source": [
    "from langchain_core.documents import Document\n",
    "from langchain.text_splitter import RecursiveCharacterTextSplitter\n",
    "from langchain.document_loaders import PyPDFLoader\n",
    "from typing import List\n",
    "\n",
    "class SmartPDFProcessor:\n",
    "    \n",
    "    def __init__(self, chunk_size=1000, chunk_overlap=200):\n",
    "        self.chunk_size = chunk_size\n",
    "        self.chunk_overlap = chunk_overlap\n",
    "        self.text_splitter = RecursiveCharacterTextSplitter(\n",
    "            chunk_size=chunk_size,\n",
    "            chunk_overlap=chunk_overlap,\n",
    "            length_function=len,\n",
    "            is_separator_regex=False,\n",
    "        )\n",
    "    def process_pdf(self, pdf_path:str)->List[Document]:\n",
    "        loader = PyPDFLoader(pdf_path)\n",
    "        pages = loader.load()\n",
    "       \n",
    "\n",
    "        \n",
    "        processed_chunks=[]\n",
    "        for page_num,page in enumerate(pages):\n",
    "            cleaned_text=self._clean_text(page.page_content)\n",
    "\n",
    "            if len(cleaned_text.strip())<50:\n",
    "                continue\n",
    "            chunks=self.text_splitter.create_documents(texts=[cleaned_text],metadatas=[{\"page_num\":page_num+1,\"source\":pdf_path}])\n",
    "\n",
    "            processed_chunks.extend(chunks)\n",
    "        return processed_chunks\n",
    "    def _clean_text(self,text:str)->str:\n",
    "            text=text.strip()\n",
    "            text=text.replace(\"\\n\",\" \")\n",
    "            text=text.replace(\"\\t\",\" \")\n",
    "            text=text.replace(\"\\r\",\" \")\n",
    "            return text\n",
    "                \n",
    "            \n",
    "\n",
    "        \n",
    "            "
   ]
  },
  {
   "cell_type": "code",
   "execution_count": 2,
   "id": "97f1cbb5",
   "metadata": {},
   "outputs": [
    {
     "name": "stdout",
     "output_type": "stream",
     "text": [
      "Total chunks: 5\n",
      "/nSample chunk metadata: \n",
      "page_num: 1\n",
      "source: ./data/pdf/rag.pdf\n"
     ]
    }
   ],
   "source": [
    "preprocessor=SmartPDFProcessor()\n",
    "try:\n",
    "    smart_chunk=preprocessor.process_pdf(\"./data/pdf/rag.pdf\")\n",
    "    print(f\"Total chunks: {len(smart_chunk)}\")\n",
    "    if smart_chunk:\n",
    "        print(\"/nSample chunk metadata: \")   \n",
    "        for key,value in smart_chunk[0].metadata.items():\n",
    "            print(f\"{key}: {value}\")\n",
    "except Exception as e:\n",
    "    print(f\"Error processing PDF: {str(e)}\")"
   ]
  }
 ],
 "metadata": {
  "kernelspec": {
   "display_name": ".venv",
   "language": "python",
   "name": "python3"
  },
  "language_info": {
   "codemirror_mode": {
    "name": "ipython",
    "version": 3
   },
   "file_extension": ".py",
   "mimetype": "text/x-python",
   "name": "python",
   "nbconvert_exporter": "python",
   "pygments_lexer": "ipython3",
   "version": "3.12.11"
  }
 },
 "nbformat": 4,
 "nbformat_minor": 5
}
