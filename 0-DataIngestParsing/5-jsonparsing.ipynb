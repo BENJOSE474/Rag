{
 "cells": [
  {
   "cell_type": "code",
   "execution_count": 1,
   "id": "f5f7764b",
   "metadata": {},
   "outputs": [],
   "source": [
    "import json\n",
    "import os\n",
    "os.makedirs(\"./data/json_file\",exist_ok=True)"
   ]
  },
  {
   "cell_type": "code",
   "execution_count": null,
   "id": "6e0ac5d4",
   "metadata": {},
   "outputs": [
    {
     "data": {
      "text/plain": [
       "{'company': 'TechCorp',\n",
       " 'employees': [{'id': 1,\n",
       "   'name': 'Alice',\n",
       "   'department': 'Engineering',\n",
       "   'skills': ['Python', 'C++', 'Machine Learning'],\n",
       "   'address': {'city': 'New York', 'zip': '10001'}},\n",
       "  {'id': 2,\n",
       "   'name': 'Bob',\n",
       "   'department': 'Marketing',\n",
       "   'skills': ['SEO', 'Content Writing', 'Social Media'],\n",
       "   'address': {'city': 'Los Angeles', 'zip': '90001'}}],\n",
       " 'projects': {'AI': {'budget': 500000, 'deadline': '2025-12-31'},\n",
       "  'WebApp': {'budget': 200000, 'deadline': '2025-06-30'}}}"
      ]
     },
     "execution_count": 6,
     "metadata": {},
     "output_type": "execute_result"
    }
   ],
   "source": [
    "json_data={\n",
    "    \"company\": \"TechCorp\",\n",
    "    \"employees\": [\n",
    "        {\n",
    "            \"id\": 1,\n",
    "            \"name\": \"Alice\",\n",
    "            \"department\": \"Engineering\",\n",
    "            \"skills\": [\n",
    "                \"Python\",\n",
    "                \"C++\",\n",
    "                \"Machine Learning\"\n",
    "            ],\n",
    "            \"address\": {\n",
    "                \"city\": \"New York\",\n",
    "                \"zip\": \"10001\"\n",
    "            }\n",
    "        },\n",
    "        {\n",
    "            \"id\": 2,\n",
    "            \"name\": \"Bob\",\n",
    "            \"department\": \"Marketing\",\n",
    "            \"skills\": [\n",
    "                \"SEO\",\n",
    "                \"Content Writing\",\n",
    "                \"Social Media\"\n",
    "            ],\n",
    "            \"address\": {\n",
    "                \"city\": \"Los Angeles\",\n",
    "                \"zip\": \"90001\"\n",
    "            }\n",
    "        }\n",
    "    ],\n",
    "    \"projects\": {\n",
    "        \"AI\": {\n",
    "            \"budget\": 500000,\n",
    "            \"deadline\": \"2025-12-31\"\n",
    "        },\n",
    "        \"WebApp\": {\n",
    "            \"budget\": 200000,\n",
    "            \"deadline\": \"2025-06-30\"\n",
    "        }\n",
    "    }\n",
    "}\n",
    "json_data['employees'][0]['skills']"
   ]
  },
  {
   "cell_type": "code",
   "execution_count": 7,
   "id": "2632e59e",
   "metadata": {},
   "outputs": [],
   "source": [
    "with open(\"./data/json_file/event_rag.json\",\"w\") as f:\n",
    "    json.dump(json_data,f)"
   ]
  },
  {
   "cell_type": "code",
   "execution_count": 15,
   "id": "1c6d76cf",
   "metadata": {},
   "outputs": [],
   "source": [
    "json1_data={\n",
    "    \"store\": \"ShopEZ\",\n",
    "    \"orders\": [\n",
    "        {\n",
    "            \"order_id\": \"ORD1001\",\n",
    "            \"customer\": {\n",
    "                \"id\": \"C001\",\n",
    "                \"name\": \"John Doe\",\n",
    "                \"email\": \"john@example.com\"\n",
    "            },\n",
    "            \"items\": [\n",
    "                {\n",
    "                    \"product\": \"Laptop\",\n",
    "                    \"price\": 1200,\n",
    "                    \"quantity\": 1\n",
    "                },\n",
    "                {\n",
    "                    \"product\": \"Mouse\",\n",
    "                    \"price\": 25,\n",
    "                    \"quantity\": 2\n",
    "                }\n",
    "            ],\n",
    "            \"total\": 1250,\n",
    "            \"status\": \"Shipped\"\n",
    "        },\n",
    "        {\n",
    "            \"order_id\": \"ORD1002\",\n",
    "            \"customer\": {\n",
    "                \"id\": \"C002\",\n",
    "                \"name\": \"Jane Smith\",\n",
    "                \"email\": \"jane@example.com\"\n",
    "            },\n",
    "            \"items\": [\n",
    "                {\n",
    "                    \"product\": \"Phone\",\n",
    "                    \"price\": 800,\n",
    "                    \"quantity\": 1\n",
    "                },\n",
    "                {\n",
    "                    \"product\": \"Headphones\",\n",
    "                    \"price\": 100,\n",
    "                    \"quantity\": 1\n",
    "                }\n",
    "            ],\n",
    "            \"total\": 900,\n",
    "            \"status\": \"Processing\"\n",
    "        }\n",
    "    ]\n",
    "}\n",
    "with open(\"./data/json_file/rag.json\", \"w\") as json_file:\n",
    "    json.dump(json1_data, json_file, indent=4)"
   ]
  },
  {
   "cell_type": "code",
   "execution_count": 12,
   "id": "dff2594d",
   "metadata": {},
   "outputs": [],
   "source": [
    "from langchain_core.documents import Document\n",
    "from langchain.document_loaders import JSONLoader\n",
    "import os\n",
    "import json"
   ]
  },
  {
   "cell_type": "code",
   "execution_count": null,
   "id": "532d39ce",
   "metadata": {},
   "outputs": [
    {
     "name": "stdout",
     "output_type": "stream",
     "text": [
      "{\"id\": 1, \"name\": \"Alice\", \"department\": \"Engineering\", \"skills\": [\"Python\", \"C++\", \"Machine Learning\"], \"address\": {\"city\": \"New York\", \"zip\": \"10001\"}}\n"
     ]
    }
   ],
   "source": [
    "employee_loader=JSONLoader(file_path=\"./data/json_file/rag.json\",jq_schema=\".employees[]\",text_content=False)\n",
    "employee_documents=employee_loader.load()\n",
    "print(employee_documents.page_content)\n"
   ]
  }
 ],
 "metadata": {
  "kernelspec": {
   "display_name": ".venv",
   "language": "python",
   "name": "python3"
  },
  "language_info": {
   "codemirror_mode": {
    "name": "ipython",
    "version": 3
   },
   "file_extension": ".py",
   "mimetype": "text/x-python",
   "name": "python",
   "nbconvert_exporter": "python",
   "pygments_lexer": "ipython3",
   "version": "3.12.11"
  }
 },
 "nbformat": 4,
 "nbformat_minor": 5
}
