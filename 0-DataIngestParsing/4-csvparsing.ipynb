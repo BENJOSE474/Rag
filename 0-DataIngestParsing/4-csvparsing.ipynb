{
 "cells": [
  {
   "cell_type": "code",
   "execution_count": 1,
   "id": "5e2dd23b",
   "metadata": {},
   "outputs": [],
   "source": [
    "import pandas as pd\n",
    "import os"
   ]
  },
  {
   "cell_type": "code",
   "execution_count": 2,
   "id": "3f74d66b",
   "metadata": {},
   "outputs": [],
   "source": [
    "os.makedirs(\"./data/structured_file\",exist_ok=True)"
   ]
  },
  {
   "cell_type": "code",
   "execution_count": 3,
   "id": "a2ac1278",
   "metadata": {},
   "outputs": [],
   "source": [
    "from langchain_community.document_loaders import CSVLoader\n",
    "from langchain_community.document_loaders import UnstructuredCSVLoader"
   ]
  },
  {
   "cell_type": "code",
   "execution_count": 4,
   "id": "ea1a46eb",
   "metadata": {},
   "outputs": [
    {
     "name": "stdout",
     "output_type": "stream",
     "text": [
      "[Document(metadata={'source': './data/structured_file/rag.csv', 'row': 0}, page_content='Name: Alice\\nAge: 25\\nCity: New York'), Document(metadata={'source': './data/structured_file/rag.csv', 'row': 1}, page_content='Name: Bob\\nAge: 30\\nCity: Los Angeles'), Document(metadata={'source': './data/structured_file/rag.csv', 'row': 2}, page_content='Name: Charlie\\nAge: 35\\nCity: Chicago'), Document(metadata={'source': './data/structured_file/rag.csv', 'row': 3}, page_content='Name: David\\nAge: 40\\nCity: Houston')]\n"
     ]
    }
   ],
   "source": [
    "csvloader = CSVLoader(file_path=\"./data/structured_file/rag.csv\",encoding=\"utf-8\",csv_args={\"quotechar\": \",\",\"delimiter\": \",\"})\n",
    "csv_doc=csvloader.load()\n",
    "print(csv_doc)"
   ]
  },
  {
   "cell_type": "code",
   "execution_count": 5,
   "id": "8a043c86",
   "metadata": {},
   "outputs": [],
   "source": [
    "from typing import List\n",
    "from langchain_core.documents import Document\n",
    "def process_csv(file_path:str)->List[Document]:\n",
    "    df=pd.read_csv(file_path)\n",
    "    documents=[]\n",
    "    for _,row in df.iterrows():\n",
    "        document=Document(page_content=row['text'])\n",
    "        documents.append(document)\n",
    "    return documents\n",
    "    \n"
   ]
  },
  {
   "cell_type": "code",
   "execution_count": null,
   "id": "b628c07c",
   "metadata": {},
   "outputs": [
    {
     "ename": "NameError",
     "evalue": "name 'documents' is not defined",
     "output_type": "error",
     "traceback": [
      "\u001b[31m---------------------------------------------------------------------------\u001b[39m",
      "\u001b[31mNameError\u001b[39m                                 Traceback (most recent call last)",
      "\u001b[36mCell\u001b[39m\u001b[36m \u001b[39m\u001b[32mIn[6]\u001b[39m\u001b[32m, line 1\u001b[39m\n\u001b[32m----> \u001b[39m\u001b[32m1\u001b[39m \u001b[43mdocuments\u001b[49m\n",
      "\u001b[31mNameError\u001b[39m: name 'documents' is not defined"
     ]
    }
   ],
   "source": []
  }
 ],
 "metadata": {
  "kernelspec": {
   "display_name": ".venv",
   "language": "python",
   "name": "python3"
  },
  "language_info": {
   "codemirror_mode": {
    "name": "ipython",
    "version": 3
   },
   "file_extension": ".py",
   "mimetype": "text/x-python",
   "name": "python",
   "nbconvert_exporter": "python",
   "pygments_lexer": "ipython3",
   "version": "3.12.11"
  }
 },
 "nbformat": 4,
 "nbformat_minor": 5
}
