{
 "cells": [
  {
   "cell_type": "code",
   "execution_count": 4,
   "id": "4e390ec5",
   "metadata": {},
   "outputs": [],
   "source": [
    "###Introduction to Data Ingestion\n",
    "import os\n",
    "from typing import List,Dict,Any\n",
    "import pandas as pd\n",
    "\n"
   ]
  },
  {
   "cell_type": "code",
   "execution_count": 6,
   "id": "0c67edc9",
   "metadata": {},
   "outputs": [
    {
     "name": "stdout",
     "output_type": "stream",
     "text": [
      "Set up completed\n"
     ]
    }
   ],
   "source": [
    "from langchain_core.documents import Document\n",
    "from langchain.text_splitter import (RecursiveCharacterTextSplitter, TokenTextSplitter,CharacterTextSplitter)\n",
    "print(\"Set up completed\")"
   ]
  },
  {
   "cell_type": "markdown",
   "id": "d87278d0",
   "metadata": {},
   "source": [
    "Understanding Document Structure In LangChain   \n"
   ]
  },
  {
   "cell_type": "code",
   "execution_count": 7,
   "id": "93114076",
   "metadata": {},
   "outputs": [
    {
     "name": "stdout",
     "output_type": "stream",
     "text": [
      "doc structure\n",
      "page_content='This will be the content that will be embedded and splitted' metadata={'source': 'test.txt', 'page': 1, 'author': 'Ragu', 'date': '2025-08-18', 'custom': 'custom metadata'}\n",
      "\n",
      "\n",
      "doc metadata\n",
      "{'source': 'test.txt', 'page': 1, 'author': 'Ragu', 'date': '2025-08-18', 'custom': 'custom metadata'}\n",
      "\n",
      "\n",
      "doc page_content\n",
      "This will be the content that will be embedded and splitted\n"
     ]
    }
   ],
   "source": [
    "doc=Document(\n",
    "    page_content=\"This will be the content that will be embedded and splitted\",\n",
    "    metadata={\n",
    "        \"source\": \"test.txt\",\n",
    "        \"page\":1,\n",
    "        \"author\":\"Ragu\",\n",
    "        \"date\":\"2025-08-18\",\n",
    "        \"custom\":\"custom metadata\"},\n",
    ")\n",
    "print(\"doc structure\")\n",
    "print(doc)\n",
    "print(\"\\n\")\n",
    "print(\"doc metadata\")\n",
    "print(doc.metadata)\n",
    "print(\"\\n\")\n",
    "print(\"doc page_content\")\n",
    "print(doc.page_content)"
   ]
  },
  {
   "cell_type": "code",
   "execution_count": 8,
   "id": "0dd5261e",
   "metadata": {},
   "outputs": [
    {
     "data": {
      "text/plain": [
       "langchain_core.documents.base.Document"
      ]
     },
     "execution_count": 8,
     "metadata": {},
     "output_type": "execute_result"
    }
   ],
   "source": [
    "type(doc)"
   ]
  },
  {
   "cell_type": "markdown",
   "id": "3dde3e23",
   "metadata": {},
   "source": [
    "text files\n"
   ]
  },
  {
   "cell_type": "code",
   "execution_count": null,
   "id": "3e11ed55",
   "metadata": {},
   "outputs": [],
   "source": [
    "import os\n",
    "os.makedirs(\"data\",exist_ok=True)"
   ]
  },
  {
   "cell_type": "code",
   "execution_count": 26,
   "id": "6a064ee1",
   "metadata": {},
   "outputs": [
    {
     "name": "stdout",
     "output_type": "stream",
     "text": [
      "sample file created\n"
     ]
    }
   ],
   "source": [
    "sample_texts={\n",
    "    \"data/text_files/python.txt\":\"\"\"Python is an interpreted, high-level and general-purpose programming language. Python's design philosophy emphasizes code readability with its notable use of significant whitespace. Its language constructs and object-oriented approach aim to help programmers write clear, logical code for small and large-scale projects.AI LLM Security Session Summary\n",
    "This session covers real-world security risks in Large Language Model (LLM) deployments, drawn from penetration testing and recent research. Attendees will learn about key vulnerabilities, see a live demo of a novel prompt extraction attack (revealing system prompts without model access), and understand why traditional security tools fall short. The talk also covers how attackers exploit generative AI and provides practical defenses to strengthen AI LLM security posture.\n",
    "\n",
    "Why Attend:\n",
    "\n",
    "Understand common vulnerabilities in LLM applications.\n",
    "\n",
    "Learn from Black Hat trainers and pen testers real-world findings.\n",
    "\n",
    "See live demonstrations of prompt-based attacks.\n",
    "\n",
    "Gain actionable strategies to defend against AI-specific threats.\"\"\",\n",
    "   \n",
    "}\n",
    "for filepath,content in sample_texts.items():\n",
    "    with open(filepath,\"w\",encoding=\"utf-8\") as f:\n",
    "        f.write(content)\n",
    "print(\"sample file created\")"
   ]
  },
  {
   "cell_type": "markdown",
   "id": "1351fc36",
   "metadata": {},
   "source": [
    "TextLoader-Read Single File"
   ]
  },
  {
   "cell_type": "code",
   "execution_count": 27,
   "id": "e482a0fe",
   "metadata": {},
   "outputs": [
    {
     "name": "stdout",
     "output_type": "stream",
     "text": [
      "<class 'list'>\n",
      "[Document(metadata={'source': 'data/text_files/python.txt'}, page_content=\"Python is an interpreted, high-level and general-purpose programming language. Python's design philosophy emphasizes code readability with its notable use of significant whitespace. Its language constructs and object-oriented approach aim to help programmers write clear, logical code for small and large-scale projects.AI LLM Security Session Summary\\nThis session covers real-world security risks in Large Language Model (LLM) deployments, drawn from penetration testing and recent research. Attendees will learn about key vulnerabilities, see a live demo of a novel prompt extraction attack (revealing system prompts without model access), and understand why traditional security tools fall short. The talk also covers how attackers exploit generative AI and provides practical defenses to strengthen AI LLM security posture.\\n\\nWhy Attend:\\n\\nUnderstand common vulnerabilities in LLM applications.\\n\\nLearn from Black Hat trainers and pen testers real-world findings.\\n\\nSee live demonstrations of prompt-based attacks.\\n\\nGain actionable strategies to defend against AI-specific threats.\")]\n"
     ]
    }
   ],
   "source": [
    "from langchain.document_loaders import TextLoader\n",
    "from langchain_community.document_loaders import TextLoader\n",
    "\n",
    "loader=TextLoader(\"data/text_files/python.txt\",encoding=\"utf-8\")\n",
    "doc=loader.load()\n",
    "print(type(doc))\n",
    "print(doc)\n"
   ]
  },
  {
   "cell_type": "markdown",
   "id": "d7d59c5d",
   "metadata": {},
   "source": [
    "DirectoryLoader=Multiple text files"
   ]
  },
  {
   "cell_type": "code",
   "execution_count": 30,
   "id": "bc00e821",
   "metadata": {},
   "outputs": [
    {
     "name": "stderr",
     "output_type": "stream",
     "text": [
      "100%|██████████| 1/1 [00:00<00:00, 1474.79it/s]"
     ]
    },
    {
     "name": "stdout",
     "output_type": "stream",
     "text": [
      "Document 1: data/text_files/python.txt\n"
     ]
    },
    {
     "name": "stderr",
     "output_type": "stream",
     "text": [
      "\n"
     ]
    }
   ],
   "source": [
    "from langchain.document_loaders import DirectoryLoader\n",
    "dir_loader=DirectoryLoader(\n",
    "    \"data/text_files\",\n",
    "glob=\"**/*.txt\",\n",
    "loader_cls=TextLoader,\n",
    "loader_kwargs={\"encoding\":\"utf-8\"},\n",
    "show_progress=True\n",
    ")\n",
    "documents=dir_loader.load()\n",
    "for i,doc in enumerate(documents):\n",
    "    print(f\"Document {i+1}: {doc.metadata['source']}\")\n",
    "    "
   ]
  },
  {
   "cell_type": "markdown",
   "id": "5ae8efbd",
   "metadata": {},
   "source": [
    "Text splitter"
   ]
  },
  {
   "cell_type": "code",
   "execution_count": 31,
   "id": "0ad91dda",
   "metadata": {},
   "outputs": [
    {
     "name": "stdout",
     "output_type": "stream",
     "text": [
      "[Document(metadata={'source': 'data/text_files/python.txt'}, page_content=\"Python is an interpreted, high-level and general-purpose programming language. Python's design philosophy emphasizes code readability with its notable use of significant whitespace. Its language constructs and object-oriented approach aim to help programmers write clear, logical code for small and large-scale projects.AI LLM Security Session Summary\\nThis session covers real-world security risks in Large Language Model (LLM) deployments, drawn from penetration testing and recent research. Attendees will learn about key vulnerabilities, see a live demo of a novel prompt extraction attack (revealing system prompts without model access), and understand why traditional security tools fall short. The talk also covers how attackers exploit generative AI and provides practical defenses to strengthen AI LLM security posture.\\n\\nWhy Attend:\\n\\nUnderstand common vulnerabilities in LLM applications.\\n\\nLearn from Black Hat trainers and pen testers real-world findings.\\n\\nSee live demonstrations of prompt-based attacks.\\n\\nGain actionable strategies to defend against AI-specific threats.\")]\n"
     ]
    }
   ],
   "source": [
    "from langchain.text_splitter import (RecursiveCharacterTextSplitter, TokenTextSplitter,CharacterTextSplitter)\n",
    "print(documents)"
   ]
  },
  {
   "cell_type": "code",
   "execution_count": 38,
   "id": "7b2ca6d2",
   "metadata": {},
   "outputs": [
    {
     "name": "stdout",
     "output_type": "stream",
     "text": [
      "created 2 chunks\n",
      "First chunk: Python is ...\n",
      "\n",
      "__________________\n",
      "Python is an interpreted, high-level and general-purpose programming language. Python's design philosophy emphasizes code readability with its notable use of significant whitespace. Its language constructs and object-oriented approach aim to help programmers write clear, logical code for small and large-scale projects.AI LLM Security Session Summary\n",
      "This session covers real-world security risks in Large Language Model (LLM) deployments, drawn from penetration testing and recent research. Attendees will learn about key vulnerabilities, see a live demo of a novel prompt extraction attack (revealing system prompts without model access), and understand why traditional security tools fall short. The talk also covers how attackers exploit generative AI and provides practical defenses to strengthen AI LLM security posture.\n",
      "\n",
      "Why Attend:\n",
      "\n",
      "Understand common vulnerabilities in LLM applications.\n",
      "\n",
      "Learn from Black Hat trainers and pen testers real-world findings.\n",
      "\n",
      "__________________\n",
      "Why Attend:\n",
      "\n",
      "Understand common vulnerabilities in LLM applications.\n",
      "\n",
      "Learn from Black Hat trainers and pen testers real-world findings.\n",
      "\n",
      "See live demonstrations of prompt-based attacks.\n",
      "\n",
      "Gain actionable strategies to defend against AI-specific threats.\n",
      "\n",
      "__________________\n"
     ]
    }
   ],
   "source": [
    "###Method 1: character text splitter\n",
    "text=documents[0].page_content\n",
    "text\n",
    "character_text_splitter=CharacterTextSplitter(chunk_size=1000,chunk_overlap=200,length_function=len)\n",
    "char_chunks=character_text_splitter.split_text(text)\n",
    "print(f\"created {len(char_chunks)} chunks\")\n",
    "print(f\"First chunk: {char_chunks[0][:10]}...\")\n",
    "print(\"\\n__________________\")\n",
    "print(char_chunks[0])\n",
    "print(\"\\n__________________\")\n",
    "print(char_chunks[1])\n",
    "print(\"\\n__________________\")\n"
   ]
  },
  {
   "cell_type": "markdown",
   "id": "419f78cf",
   "metadata": {},
   "source": [
    "recursive character splitting(recommended)\n"
   ]
  },
  {
   "cell_type": "code",
   "execution_count": 43,
   "id": "6b934c2a",
   "metadata": {},
   "outputs": [
    {
     "name": "stdout",
     "output_type": "stream",
     "text": [
      "created 18 chunks\n",
      "First chunk: Python is ...\n",
      "\n",
      "__________________\n",
      "Python is an interpreted, high-level and general-purpose programming language.\n",
      "\n",
      "__________________\n",
      "language. Python's design philosophy emphasizes code readability with its\n",
      "\n",
      "__________________\n"
     ]
    }
   ],
   "source": [
    "recursive_splitter=RecursiveCharacterTextSplitter(chunk_size=80,chunk_overlap=20,length_function=len)\n",
    "char_chunks=recursive_splitter.split_text(text)\n",
    "print(f\"created {len(char_chunks)} chunks\")\n",
    "print(f\"First chunk: {char_chunks[0][:10]}...\")\n",
    "print(\"\\n__________________\")\n",
    "print(char_chunks[0])\n",
    "print(\"\\n__________________\")\n",
    "print(char_chunks[1])\n",
    "print(\"\\n__________________\")"
   ]
  },
  {
   "cell_type": "markdown",
   "id": "5e425610",
   "metadata": {},
   "source": [
    "token based splitting"
   ]
  },
  {
   "cell_type": "code",
   "execution_count": 46,
   "id": "9d8c9384",
   "metadata": {},
   "outputs": [
    {
     "name": "stdout",
     "output_type": "stream",
     "text": [
      "created 3 chunks\n",
      "First chunk: Python is ...\n"
     ]
    }
   ],
   "source": [
    "token_splitter=TokenTextSplitter(chunk_size=100,chunk_overlap=20)\n",
    "token_chunks=token_splitter.split_text(text)\n",
    "print(f\"created {len(token_chunks)} chunks\")\n",
    "print(f\"First chunk: {token_chunks[0][:10]}...\")"
   ]
  }
 ],
 "metadata": {
  "kernelspec": {
   "display_name": ".venv",
   "language": "python",
   "name": "python3"
  },
  "language_info": {
   "codemirror_mode": {
    "name": "ipython",
    "version": 3
   },
   "file_extension": ".py",
   "mimetype": "text/x-python",
   "name": "python",
   "nbconvert_exporter": "python",
   "pygments_lexer": "ipython3",
   "version": "3.12.11"
  }
 },
 "nbformat": 4,
 "nbformat_minor": 5
}
