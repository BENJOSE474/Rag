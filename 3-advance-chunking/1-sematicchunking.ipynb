{
 "cells": [
  {
   "cell_type": "code",
   "execution_count": 17,
   "id": "af41b88b",
   "metadata": {},
   "outputs": [],
   "source": [
    "from sentence_transformers import SentenceTransformer\n",
    "from sklearn.metrics.pairwise import cosine_similarity\n",
    "import numpy as np\n"
   ]
  },
  {
   "cell_type": "code",
   "execution_count": 18,
   "id": "844690b1",
   "metadata": {},
   "outputs": [],
   "source": [
    "model=SentenceTransformer('all-MiniLM-L6-v2')\n",
    "text=\"\"\"\n",
    "Langchain is a framework for building application with llms\n",
    "Langchain provides modular abstractions to combine LLMs with tools like OpenAI, Groq, Huggingface, etc\n",
    "Langchain can create chains,agents,tools,flows,etc\n",
    "the eiffel tower is a tower\n",
    "the eiffel tower is in Paris\n",
    "France is a popular tourist destination.\"\"\"\n",
    "sentences=[s.strip()for s in text.split(\"\\n\") if s.strip()]\n",
    "embedding=model.encode(sentences)\n",
    "\n",
    "\n",
    "\n"
   ]
  },
  {
   "cell_type": "code",
   "execution_count": 27,
   "id": "865df990",
   "metadata": {},
   "outputs": [],
   "source": [
    "threshold=0.7\n",
    "chunks=[]\n",
    "current_chunks=[sentences[0]]"
   ]
  },
  {
   "cell_type": "code",
   "execution_count": 29,
   "id": "d83bd97f",
   "metadata": {},
   "outputs": [],
   "source": [
    "for i in range(1,len(sentences)):\n",
    "    sim=cosine_similarity([embedding[i-1]],\n",
    "    [embedding[i]])[0][0]\n",
    "\n",
    "    if sim>=threshold:\n",
    "        current_chunks.append(sentences[i])\n",
    "    else:\n",
    "        chunks.append(\" \".join(current_chunks))\n",
    "        current_chunks=[sentences[i]]\n",
    "chunks.append(\" \".join(current_chunks))\n",
    "        "
   ]
  },
  {
   "cell_type": "code",
   "execution_count": 30,
   "id": "bef4dc0f",
   "metadata": {},
   "outputs": [
    {
     "data": {
      "text/plain": [
       "4"
      ]
     },
     "execution_count": 30,
     "metadata": {},
     "output_type": "execute_result"
    }
   ],
   "source": [
    "len(chunks)"
   ]
  },
  {
   "cell_type": "code",
   "execution_count": 26,
   "id": "dde7d14d",
   "metadata": {},
   "outputs": [
    {
     "data": {
      "text/plain": [
       "['Langchain is a framework for building application with llms Langchain provides modular abstractions to combine LLMs with tools like OpenAI, Groq, Huggingface, etc Langchain can create chains,agents,tools,flows,etc',\n",
       " 'the eiffel tower is a tower the eiffel tower is in Paris France is a popular tourist destination.']"
      ]
     },
     "execution_count": 26,
     "metadata": {},
     "output_type": "execute_result"
    }
   ],
   "source": [
    "chunks"
   ]
  }
 ],
 "metadata": {
  "kernelspec": {
   "display_name": ".venv",
   "language": "python",
   "name": "python3"
  },
  "language_info": {
   "codemirror_mode": {
    "name": "ipython",
    "version": 3
   },
   "file_extension": ".py",
   "mimetype": "text/x-python",
   "name": "python",
   "nbconvert_exporter": "python",
   "pygments_lexer": "ipython3",
   "version": "3.12.11"
  }
 },
 "nbformat": 4,
 "nbformat_minor": 5
}
