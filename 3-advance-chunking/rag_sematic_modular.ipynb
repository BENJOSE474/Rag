{
 "cells": [
  {
   "cell_type": "code",
   "execution_count": 52,
   "id": "ff3db24d",
   "metadata": {},
   "outputs": [],
   "source": [
    "from langchain_core.language_models import chat_models\n",
    "from sentence_transformers import SentenceTransformer\n",
    "from sklearn.metrics.pairwise import cosine_similarity\n",
    "from langchain.schema import Document\n",
    "from langchain.vectorstores import FAISS\n",
    "from langchain.embeddings import OpenAIEmbeddings\n",
    "from langchain.chat_models import init_chat_model\n",
    "from langchain.schema.runnable import RunnableMap,RunnableLambda\n",
    "from langchain.prompts import PromptTemplate\n",
    "from langchain_core.output_parsers import StrOutputParser\n",
    "import os\n",
    "os.environ[\"GROQ_API_KEY\"]=os.getenv(\"GROQ_API_KEY\")"
   ]
  },
  {
   "cell_type": "code",
   "execution_count": 53,
   "id": "7a1d8dc3",
   "metadata": {},
   "outputs": [],
   "source": [
    "class ThresholdSematicChunker:\n",
    "    def __init__(self,model_name=\"all-MiniLM-L6-v2\",threshold=0.7):\n",
    "        self.model=SentenceTransformer(model_name)\n",
    "        self.threshold=threshold\n",
    "\n",
    "    def split(self,text:str):\n",
    "        sentences=[s.strip()for s in text.split(\"\\n\") if s.strip()]\n",
    "        embedding=self.model.encode(sentences)\n",
    "        chunks=[]\n",
    "        current_chunks=[sentences[0]]\n",
    "        for i in range(1,len(sentences)):\n",
    "            sim=cosine_similarity([embedding[i-1]],\n",
    "            [embedding[i]])[0][0]\n",
    "\n",
    "            if sim>=self.threshold:\n",
    "                current_chunks.append(sentences[i])\n",
    "            else:\n",
    "                chunks.append(\" \".join(current_chunks))\n",
    "                current_chunks=[sentences[i]]\n",
    "        chunks.append(\" \".join(current_chunks))\n",
    "        return chunks\n",
    "        \n",
    "    def split_doc(self,docs):\n",
    "        results=[]\n",
    "        for chunk in self.split(docs.page_content):\n",
    "            results.append(Document(page_content=chunk,metadata=docs.metadata))\n",
    "        return results\n",
    "\n",
    "\n"
   ]
  },
  {
   "cell_type": "code",
   "execution_count": 54,
   "id": "c428e4de",
   "metadata": {},
   "outputs": [
    {
     "data": {
      "text/plain": [
       "Document(metadata={}, page_content=' Langchain is a framework for building application with llms\\nLangchain provides modular abstractions to combine LLMs with tools like OpenAI, Groq, Huggingface, etc\\nYou can create chains,agents,tools,flows,etc\\nthe eiffel tower is a tower\\nthe eiffel tower is in Paris\\nFrance is a popular tourist destination. ')"
      ]
     },
     "execution_count": 54,
     "metadata": {},
     "output_type": "execute_result"
    }
   ],
   "source": [
    "from importlib import metadata\n",
    "\n",
    "\n",
    "sample_text=\"\"\" Langchain is a framework for building application with llms\n",
    "Langchain provides modular abstractions to combine LLMs with tools like OpenAI, Groq, Huggingface, etc\n",
    "You can create chains,agents,tools,flows,etc\n",
    "the eiffel tower is a tower\n",
    "the eiffel tower is in Paris\n",
    "France is a popular tourist destination. \"\"\"\n",
    "doc=Document(page_content=sample_text)\n",
    "doc"
   ]
  },
  {
   "cell_type": "code",
   "execution_count": 55,
   "id": "e436bae2",
   "metadata": {},
   "outputs": [
    {
     "data": {
      "text/plain": [
       "[Document(metadata={}, page_content='Langchain is a framework for building application with llms Langchain provides modular abstractions to combine LLMs with tools like OpenAI, Groq, Huggingface, etc'),\n",
       " Document(metadata={}, page_content='You can create chains,agents,tools,flows,etc'),\n",
       " Document(metadata={}, page_content='the eiffel tower is a tower the eiffel tower is in Paris'),\n",
       " Document(metadata={}, page_content='France is a popular tourist destination.')]"
      ]
     },
     "execution_count": 55,
     "metadata": {},
     "output_type": "execute_result"
    }
   ],
   "source": [
    "chunker=ThresholdSematicChunker(threshold=0.7)\n",
    "chunks=chunker.split_doc(doc)\n",
    "chunks"
   ]
  },
  {
   "cell_type": "code",
   "execution_count": 56,
   "id": "4e4b14d7",
   "metadata": {},
   "outputs": [],
   "source": [
    "import os\n",
    "os.environ[\"OPENAI_API_KEY\"]=os.getenv(\"OPENAI_API_KEY\")\n",
    "embedding=OpenAIEmbeddings()\n",
    "vectorstore=FAISS.from_documents(chunks,embedding)\n",
    "retriever=vectorstore.as_retriever()"
   ]
  },
  {
   "cell_type": "code",
   "execution_count": 57,
   "id": "dfa8e972",
   "metadata": {},
   "outputs": [
    {
     "data": {
      "text/plain": [
       "PromptTemplate(input_variables=['context', 'question'], input_types={}, partial_variables={}, template='Answer the question based on following context:\\n{context}\\nQuestion:{question}\\n')"
      ]
     },
     "execution_count": 57,
     "metadata": {},
     "output_type": "execute_result"
    }
   ],
   "source": [
    "template=\"\"\"Answer the question based on following context:\n",
    "{context}\n",
    "Question:{question}\n",
    "\"\"\"\n",
    "prompt=PromptTemplate.from_template(template)\n",
    "prompt"
   ]
  },
  {
   "cell_type": "code",
   "execution_count": 59,
   "id": "5f5653fa",
   "metadata": {},
   "outputs": [
    {
     "data": {
      "text/plain": [
       "'The provided text does not contain the answer to what Python is. \\n\\nThe documents discuss Langchain, a framework for building applications with large language models (LLMs), and provide some information about the Eiffel Tower and France.  There is no mention of Python. \\n'"
      ]
     },
     "execution_count": 59,
     "metadata": {},
     "output_type": "execute_result"
    }
   ],
   "source": [
    "from langchain_core.runnables import RunnableMap\n",
    "from langchain_core.output_parsers import StrOutputParser\n",
    "\n",
    "llm = init_chat_model(model=\"groq:gemma2-9b-it\", temperature=0.4)\n",
    "\n",
    "rag_chain = (\n",
    "    RunnableMap({\n",
    "        \"context\": lambda x: retriever.invoke(x[\"question\"]),\n",
    "        \"question\": lambda x: x[\"question\"]\n",
    "    })\n",
    "    | prompt\n",
    "    | llm\n",
    "    | StrOutputParser()\n",
    ")\n",
    "query={\"question\":\"what is python?\"}\n",
    "result=rag_chain.invoke(query)\n",
    "result"
   ]
  }
 ],
 "metadata": {
  "kernelspec": {
   "display_name": ".venv",
   "language": "python",
   "name": "python3"
  },
  "language_info": {
   "codemirror_mode": {
    "name": "ipython",
    "version": 3
   },
   "file_extension": ".py",
   "mimetype": "text/x-python",
   "name": "python",
   "nbconvert_exporter": "python",
   "pygments_lexer": "ipython3",
   "version": "3.12.11"
  }
 },
 "nbformat": 4,
 "nbformat_minor": 5
}
